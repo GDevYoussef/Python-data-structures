{
  "nbformat": 4,
  "nbformat_minor": 0,
  "metadata": {
    "colab": {
      "name": "Python data structures.ipynb",
      "provenance": [],
      "authorship_tag": "ABX9TyNMX1OUfQU70UqbyhXZ1hSm",
      "include_colab_link": true
    },
    "kernelspec": {
      "name": "python3",
      "display_name": "Python 3"
    },
    "language_info": {
      "name": "python"
    }
  },
  "cells": [
    {
      "cell_type": "markdown",
      "metadata": {
        "id": "view-in-github",
        "colab_type": "text"
      },
      "source": [
        "<a href=\"https://colab.research.google.com/github/GDevYoussef/Python-data-structures/blob/main/Python_data_structures.ipynb\" target=\"_parent\"><img src=\"https://colab.research.google.com/assets/colab-badge.svg\" alt=\"Open In Colab\"/></a>"
      ]
    },
    {
      "cell_type": "code",
      "execution_count": null,
      "metadata": {
        "colab": {
          "base_uri": "https://localhost:8080/"
        },
        "id": "jKB2XOjoYQNW",
        "outputId": "b5dd67d1-8e4f-4d0c-bbaf-df8575b675e4"
      },
      "outputs": [
        {
          "output_type": "stream",
          "name": "stdout",
          "text": [
            "12\n"
          ]
        }
      ],
      "source": [
        "# Question 1 \n",
        "# Write a Python program that multiplies all the items in a list.\n",
        "list = [2, 2, 3]\n",
        "total = 1\n",
        "for i in list:\n",
        "    total = total * i\n",
        "print(total)"
      ]
    },
    {
      "cell_type": "code",
      "source": [
        "# Question 2\n",
        "# Write a Python program to get a list, sorted in increasing order by the last \n",
        "# element in each tuple, from a given list of non-empty tuples.\n",
        "sample_list = [(2, 5), (1, 2), (4, 4), (2, 3), (2, 1)]\n",
        "sorted_list = []\n",
        "final_list = []\n",
        "for i in range(0, len(sample_list)):\n",
        "    sorted_list.append((sample_list[i][1], i))\n",
        "for element in sorted(sorted_list):\n",
        "    i = element[1]\n",
        "    final_list.append(sample_list[i])\n",
        "print(final_list)"
      ],
      "metadata": {
        "colab": {
          "base_uri": "https://localhost:8080/"
        },
        "id": "diLmFuOnZ-cu",
        "outputId": "8c7e2d4a-0776-4d63-e8a8-5b5563945bd5"
      },
      "execution_count": 6,
      "outputs": [
        {
          "output_type": "stream",
          "name": "stdout",
          "text": [
            "[(2, 1), (1, 2), (2, 3), (4, 4), (2, 5)]\n"
          ]
        }
      ]
    },
    {
      "cell_type": "code",
      "source": [
        "# Write a Python program that combines two dictionaries by \n",
        "# adding values for common keys.\n",
        "d1 = {'a': 100, 'b': 200, 'c':300}\n",
        "d2 = {'a': 300, 'b': 200, 'd':400}\n",
        "li = []\n",
        "d3 = {}\n",
        "for k1 in d1.keys():\n",
        "    li.append(k1)\n",
        "for k2 in d2.keys():\n",
        "    li.append(k2)\n",
        "for element in li:\n",
        "    if li.count(element) == 2:\n",
        "        d3.update({element:d1[element]+d2[element]})\n",
        "    elif element in d1:\n",
        "        d3.update({element:d1[element]})\n",
        "    else:\n",
        "        d3.update({element:d2[element]})\n",
        "print(d3)\n"
      ],
      "metadata": {
        "colab": {
          "base_uri": "https://localhost:8080/"
        },
        "id": "ftW0GB0XWo0N",
        "outputId": "f37802b0-9430-4257-93a1-0eaa6dd40edb"
      },
      "execution_count": 13,
      "outputs": [
        {
          "output_type": "stream",
          "name": "stdout",
          "text": [
            "{'a': 400, 'b': 400, 'c': 300, 'd': 400}\n"
          ]
        }
      ]
    },
    {
      "cell_type": "code",
      "source": [
        "# Question 4\n",
        "# With a given integral number n, write a program to generate a dictionary that\n",
        "# contains (i, i*i) so that is an integral number between 1 and n \n",
        "# (both included). Then the program should print the dictionary. \n",
        "# Suppose the following input is supplied to the program: 8. Then, \n",
        "# the output should be: {1: 1, 2: 4, 3: 9, 4: 16, 5: 25, 6: 36, 7: 49, 8: 64}\n",
        "number = int(input(\"Enter number: \"))\n",
        "dictd = {}\n",
        "for i in range(1, number + 1):\n",
        "    dictd.update({i:i * i})\n",
        "print(dictd)"
      ],
      "metadata": {
        "colab": {
          "base_uri": "https://localhost:8080/"
        },
        "id": "1P6M0ouGhH1n",
        "outputId": "2ccff0d4-2457-4b68-a52c-7db4b77b11f4"
      },
      "execution_count": 5,
      "outputs": [
        {
          "output_type": "stream",
          "name": "stdout",
          "text": [
            "Enter number: 8\n",
            "{1: 1, 2: 4, 3: 9, 4: 16, 5: 25, 6: 36, 7: 49, 8: 64}\n"
          ]
        }
      ]
    },
    {
      "cell_type": "code",
      "source": [
        "# Question 5\n",
        "# Write a program to sort a tuple by its float element.\n",
        "# For example: list= [('item1', '12.20'), ('item2', '15.10'), ('item3', '24.5')]\n",
        "# Expected result: [('item3', '24.5'), ('item2', '15.10'), ('item1', '12.20')]\n",
        "sample_list = [('item1', '12.20'), ('item2', '15.10'), ('item3', '24.5')]\n",
        "sorted_list = []\n",
        "final_list = []\n",
        "for i in range(0, len(sample_list)):\n",
        "    sorted_list.append((sample_list[i][1], i))\n",
        "for element in sorted(sorted_list):\n",
        "    i = element[1]\n",
        "    final_list.append(sample_list[i])\n",
        "print(final_list)"
      ],
      "metadata": {
        "colab": {
          "base_uri": "https://localhost:8080/"
        },
        "id": "bbPj_J7FqhLC",
        "outputId": "dd159580-4957-4fe2-fcde-9f572f183275"
      },
      "execution_count": 7,
      "outputs": [
        {
          "output_type": "stream",
          "name": "stdout",
          "text": [
            "[('item1', '12.20'), ('item2', '15.10'), ('item3', '24.5')]\n"
          ]
        }
      ]
    }
  ]
}